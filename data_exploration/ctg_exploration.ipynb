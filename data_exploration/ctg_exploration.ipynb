{
  "nbformat": 4,
  "nbformat_minor": 0,
  "metadata": {
    "colab": {
      "provenance": []
    },
    "kernelspec": {
      "name": "python3",
      "display_name": "Python 3"
    },
    "language_info": {
      "name": "python"
    }
  },
  "cells": [
    {
      "cell_type": "markdown",
      "source": [
        "# CTG Data Exploration Notebook Structure"
      ],
      "metadata": {
        "id": "cjfOnrPqv31d"
      }
    },
    {
      "cell_type": "markdown",
      "source": [
        "## 1. Imports and Setup"
      ],
      "metadata": {
        "id": "mhERumHHwHY1"
      }
    },
    {
      "cell_type": "code",
      "source": [
        "import pandas as pd\n",
        "import numpy as np\n",
        "import matplotlib.pyplot as plt\n",
        "import seaborn as sns\n",
        "\n",
        "from sklearn.preprocessing import StandardScaler"
      ],
      "metadata": {
        "id": "KbDxFqFNwLmH"
      },
      "execution_count": null,
      "outputs": []
    },
    {
      "cell_type": "markdown",
      "source": [
        "## 2. Load the Dataset"
      ],
      "metadata": {
        "id": "c_OOUiH5wOih"
      }
    },
    {
      "cell_type": "code",
      "source": [
        "df = pd.read_excel(\"../CTG.xls\", sheet_name=\"Raw Data\")\n",
        "print(df.shape)\n",
        "df.head()"
      ],
      "metadata": {
        "id": "yHGZdBDOwRJ0"
      },
      "execution_count": null,
      "outputs": []
    },
    {
      "cell_type": "markdown",
      "source": [
        "## 3. Basic Interpretation"
      ],
      "metadata": {
        "id": "pi7KzkluwTpE"
      }
    },
    {
      "cell_type": "code",
      "source": [
        "df.info()\n",
        "df.describe()\n",
        "df.isnull().sum().sort_values(ascending=False).head(10)"
      ],
      "metadata": {
        "id": "kcZDY8pGwXxq"
      },
      "execution_count": null,
      "outputs": []
    },
    {
      "cell_type": "markdown",
      "source": [
        "Checks for:\n",
        "- Missing Data\n",
        "- Outliers\n",
        "- Wrong data types"
      ],
      "metadata": {
        "id": "qEQB-FNTwb5x"
      }
    },
    {
      "cell_type": "markdown",
      "source": [
        "## 4. Remove Empty Rows & Metadata"
      ],
      "metadata": {
        "id": "_uTEUyzzwl-Q"
      }
    },
    {
      "cell_type": "code",
      "source": [
        "df = df.dropna(how=\"all\")\n",
        "df = df.drop(columns=[\n",
        "    \"FileName\", \"Date\", \"SegFile\", \"LBE\", \"A\", \"B\", \"C\", \"D\", \"E\",\n",
        "    \"AD\", \"DE\", \"LD\", \"FS\", \"SUSP\", \"CLASS\"\n",
        "])\n",
        "df = df.drop([2128, 2129], errors=\"ignore\")\n",
        "df[\"NSP\"] -= 1\n",
        "df.head()"
      ],
      "metadata": {
        "id": "lnncn0LawrNa"
      },
      "execution_count": null,
      "outputs": []
    },
    {
      "cell_type": "markdown",
      "source": [
        "## 5. Class Distribution"
      ],
      "metadata": {
        "id": "Xsbhw15zw0J1"
      }
    },
    {
      "cell_type": "code",
      "source": [
        "sns.countplot(x=\"NSP\", data=df)\n",
        "plt.title(\"Class Distribution of NSP\")\n",
        "plt.xlabel(\"Class (0=Normal, 1=Suspect, 2=Pathologic)\")\n",
        "plt.ylabel(\"Count\")\n",
        "plt.show()"
      ],
      "metadata": {
        "id": "bNlMDBOkw3KH"
      },
      "execution_count": null,
      "outputs": []
    },
    {
      "cell_type": "markdown",
      "source": [
        "Shows us the imbalanced classes"
      ],
      "metadata": {
        "id": "FAg60b1lxE1s"
      }
    },
    {
      "cell_type": "markdown",
      "source": [
        "## 6. Feature Distributions"
      ],
      "metadata": {
        "id": "YJLRnoALxHsC"
      }
    },
    {
      "cell_type": "code",
      "source": [
        "df.hist(figsize=(14,12), bins=20)\n",
        "plt.suptitle(\"Feature Distributions\")\n",
        "plt.show()"
      ],
      "metadata": {
        "id": "WhbTJp6BxMFX"
      },
      "execution_count": null,
      "outputs": []
    },
    {
      "cell_type": "markdown",
      "source": [
        "Identify skewed features like **ASTV** , **ALTV**, etc"
      ],
      "metadata": {
        "id": "5BVbS93vxOIO"
      }
    },
    {
      "cell_type": "markdown",
      "source": [
        "## 7. Correlation Heatmap"
      ],
      "metadata": {
        "id": "Ihi6ZTOHxktV"
      }
    },
    {
      "cell_type": "code",
      "source": [
        "correlation_matrix = df.corr()",
        "plt.figure(figsize=(30, 25))",
        "sns.heatmap(correlation_matrix, annot=True, cmap='coolwarm', fmt='.2f', cbar=True, annot_kws={'size': 13})",
        "plt.title('Correlation Matrix', fontsize=14)",
        "plt.xticks(fontsize=10, rotation=90)",
        "plt.yticks(fontsize=10)",
        "plt.tight_layout()",
        "plt.show()"
      ],
      "metadata": {
        "id": "08YTKZjexpb9"
      },
      "execution_count": null,
      "outputs": []
    },
    {
      "cell_type": "markdown",
      "source": [
        "Shows us which features correlate strongly with **NSP**"
      ],
      "metadata": {
        "id": "1rOaHDwYxrek"
      }
    },
    {
      "cell_type": "markdown",
      "source": [
        "## 8. Feature Scaling (StandardScaler)"
      ],
      "metadata": {
        "id": "CQhpNcomxxQl"
      }
    },
    {
      "cell_type": "code",
      "source": [
        "scaler = StandardScaler()\n",
        "scaled = scaler.fit_transform(df.drop(columns=[\"NSP\"]))\n",
        "scaled_df = pd.DataFrame(scaled, columns=[col for col in df.columns if col != \"NSP\"])\n",
        "scaled_df[\"NSP\"] = df[\"NSP\"]\n",
        "scaled_df.head()"
      ],
      "metadata": {
        "id": "kN60YYrix1Y6"
      },
      "execution_count": null,
      "outputs": []
    },
    {
      "cell_type": "markdown",
      "source": [
        "## 9. Save Cleaned Data"
      ],
      "metadata": {
        "id": "QVXw3HC7yBVJ"
      }
    },
    {
      "cell_type": "code",
      "source": [
        "scaled_df.to_csv(\"CTG_cleaned.csv\", index=False)\n",
        "print(\"Cleaned and scaled dataset saved!\")"
      ],
      "metadata": {
        "id": "Q3p0KfuQyD4Z"
      },
      "execution_count": null,
      "outputs": []
    },
    {
      "cell_type": "markdown",
      "source": [
        "## 10. Summary\n",
        "- The dataset shows clear imbalance across the three classes (Normal > Suspect > Pathologic).\n",
        "\n",
        "- Several variability features (ASTV, ALTV) were skewed, hence log-transformed.\n",
        "\n",
        "- All features were standardized to zero mean and unit variance for model consistency."
      ],
      "metadata": {
        "id": "W-OUtydxyLxT"
      }
    }
  ]
}
